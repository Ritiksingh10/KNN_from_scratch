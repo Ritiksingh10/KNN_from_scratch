{
 "cells": [
  {
   "cell_type": "code",
   "execution_count": 76,
   "id": "57d3fa25-ccaf-4600-9591-5739a7e97cb6",
   "metadata": {},
   "outputs": [],
   "source": [
    "import numpy as np\n",
    "from scipy.io import loadmat"
   ]
  },
  {
   "cell_type": "code",
   "execution_count": 77,
   "id": "ae38469f-64a8-4b78-a93b-394617af4f9f",
   "metadata": {},
   "outputs": [],
   "source": [
    "mnist = loadmat(\"mnistData.mat\")\n",
    "data = mnist['mnist']\n",
    "X_train,y_train,X_test,y_test = data[0][0][0],data[0][0][2],data[0][0][1],data[0][0][3]\n",
    "X_train=np.transpose(X_train, (2,0,1))\n",
    "X_test=np.transpose(X_test, (2,0,1))"
   ]
  },
  {
   "cell_type": "code",
   "execution_count": 78,
   "id": "2042698f-9b86-493b-928b-0d8eaf1891df",
   "metadata": {},
   "outputs": [
    {
     "name": "stdout",
     "output_type": "stream",
     "text": [
      "(10000, 1)\n",
      "(60000, 28, 28)\n",
      "(60000, 1)\n"
     ]
    }
   ],
   "source": [
    "print(y_test.shape)\n",
    "print(X_train.shape)\n",
    "print(y_train.shape)"
   ]
  },
  {
   "cell_type": "code",
   "execution_count": 79,
   "id": "e02599b4-5419-452a-a27f-035dcf405f23",
   "metadata": {},
   "outputs": [],
   "source": [
    "X_train=X_train.reshape(60000,784)\n",
    "X_test=X_test.reshape(10000,784)\n",
    "\n",
    "# RANDOMLY PERMUTE X_TRAIN AND X_TEST COLUMNS\n",
    "permuted_columns = np.random.permutation(X_train.shape[1])\n",
    "\n",
    "# Use the same permutation to shuffle the columns of both X_train and X_test\n",
    "X_train = X_train[:, permuted_columns]\n",
    "X_test = X_test[:, permuted_columns]\n",
    "\n"
   ]
  },
  {
   "cell_type": "code",
   "execution_count": 80,
   "id": "2cbd649a-4c34-42f8-a41c-c8a4b0aa28c6",
   "metadata": {},
   "outputs": [
    {
     "name": "stdout",
     "output_type": "stream",
     "text": [
      "(60000, 784)\n",
      "(10000, 784)\n"
     ]
    }
   ],
   "source": [
    "print(X_train.shape)\n",
    "print(X_test.shape)"
   ]
  },
  {
   "cell_type": "code",
   "execution_count": 81,
   "id": "15166c61-2ffd-42e0-a44a-90877aa6515b",
   "metadata": {},
   "outputs": [],
   "source": [
    "def distance(x,y): #euclidean distance\n",
    "    return np.sqrt(np.sum(np.square(x-y)))\n",
    "def kNN(y, K, X_train, y_train):\n",
    "    distances=[]\n",
    "    for row in X_train:\n",
    "        distances.append(distance(y,row))\n",
    "    topKsorted = np.argpartition(distances, K) #argpartition is used to find the k least distance elements\n",
    "    classify, count = np.unique(y_train[topKsorted[:K]], return_counts=True)\n",
    "    return classify[np.argmax(count)] #mode of K nearest elements\n",
    " \n",
    "def accuracy(x,y,x_train,y_train,k):\n",
    "    c=0\n",
    "    n=len(x)\n",
    "    for i in range(n):\n",
    "        if kNN(x[i],k,x_train,y_train)==y[i]:\n",
    "            c=c+1\n",
    "    return c/n"
   ]
  },
  {
   "cell_type": "code",
   "execution_count": 82,
   "id": "d70e8973-614d-43f4-8ba2-c24fa90f8efe",
   "metadata": {},
   "outputs": [],
   "source": [
    "def min_max_scale(X):\n",
    "    min_vals = np.min(X)\n",
    "    max_vals = np.max(X)\n",
    "    scaled_X = (X - min_vals) / (max_vals - min_vals)\n",
    "    return scaled_X\n",
    "\n",
    "X_train = min_max_scale(X_train)\n",
    "X_test = min_max_scale(X_test)"
   ]
  },
  {
   "cell_type": "code",
   "execution_count": 83,
   "id": "5ff32b2a-0363-49b1-8b76-785c45f73939",
   "metadata": {},
   "outputs": [],
   "source": [
    "X_test=X_test[:100,:]\n",
    "y_test=y_test[:100,:]\n",
    "# IT IS TAKING LOT OF TIME TO RUN FOR COMPLETE X_test and y_test. \n",
    "# SO I AM CHECKING ACCURACY AT FIRST 100 ROWS WHICH IS COMING 100% "
   ]
  },
  {
   "cell_type": "code",
   "execution_count": 84,
   "id": "ec6c0b68-7aa5-4337-bc60-b244191c26d4",
   "metadata": {},
   "outputs": [],
   "source": [
    "import time"
   ]
  },
  {
   "cell_type": "code",
   "execution_count": 85,
   "id": "94cb7618-8592-4631-89a2-17565890060d",
   "metadata": {},
   "outputs": [
    {
     "name": "stdout",
     "output_type": "stream",
     "text": [
      "duration 96.89355182647705\n",
      "Accuracy for K=1:  100.0 %\n",
      "MisclassificationRate for K=1:  0.0 %\n"
     ]
    }
   ],
   "source": [
    "start_time = time.time()\n",
    "pred1 = [kNN(x, 1, X_train, y_train) for x in X_test]\n",
    "acc1 = accuracy(X_test, y_test, X_train, y_train, 1)\n",
    "end_time = time.time()\n",
    "print(\"duration\",end_time - start_time)\n",
    "\n",
    "print(\"Accuracy for K=1: \",acc1*100,\"%\")\n",
    "print(\"MisclassificationRate for K=1: \",(1-acc1)*100,\"%\")"
   ]
  },
  {
   "cell_type": "code",
   "execution_count": 86,
   "id": "4ca92573-21e3-4244-bd67-c5828fa80392",
   "metadata": {},
   "outputs": [
    {
     "name": "stdout",
     "output_type": "stream",
     "text": [
      "duration 100.28566217422485\n",
      "Accuracy for K=3:  99.0 %\n",
      "MisclassificationRate for K=3:  1.0000000000000009 %\n"
     ]
    }
   ],
   "source": [
    "start_time = time.time()\n",
    "pred3 = [kNN(x, 3, X_train, y_train) for x in X_test]\n",
    "acc3 = accuracy(X_test, y_test, X_train, y_train, 3)\n",
    "end_time = time.time()\n",
    "print(\"duration\",end_time - start_time)\n",
    "\n",
    "print(\"Accuracy for K=3: \",acc3*100,\"%\")\n",
    "print(\"MisclassificationRate for K=3: \",(1-acc3)*100,\"%\")\n"
   ]
  },
  {
   "cell_type": "code",
   "execution_count": 87,
   "id": "34072d72-4fa0-4fd8-8fa9-08f68c514b8d",
   "metadata": {},
   "outputs": [],
   "source": [
    "# MISCLASSIFICATIONRATE IS NOT AFFECTED IF WE PERMUTE THE COLUMNS OF TRAIN AND TEST DATASET"
   ]
  },
  {
   "cell_type": "code",
   "execution_count": null,
   "id": "a4dd97cc-a02d-41fd-a816-c53c781bbf7b",
   "metadata": {},
   "outputs": [],
   "source": []
  },
  {
   "cell_type": "code",
   "execution_count": null,
   "id": "0061c97e-fbd6-4810-86e2-50ff5a783693",
   "metadata": {},
   "outputs": [],
   "source": []
  }
 ],
 "metadata": {
  "kernelspec": {
   "display_name": "Python 3 (ipykernel)",
   "language": "python",
   "name": "python3"
  },
  "language_info": {
   "codemirror_mode": {
    "name": "ipython",
    "version": 3
   },
   "file_extension": ".py",
   "mimetype": "text/x-python",
   "name": "python",
   "nbconvert_exporter": "python",
   "pygments_lexer": "ipython3",
   "version": "3.9.18"
  }
 },
 "nbformat": 4,
 "nbformat_minor": 5
}
